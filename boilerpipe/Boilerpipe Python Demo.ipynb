{
 "cells": [
  {
   "cell_type": "code",
   "execution_count": 1,
   "metadata": {},
   "outputs": [],
   "source": [
    "# Boilerpipe python wrapper package\n",
    "from boilerpipe.extract import Extractor\n",
    "import pprint"
   ]
  },
  {
   "cell_type": "code",
   "execution_count": 2,
   "metadata": {},
   "outputs": [],
   "source": [
    "# Extractor object, input extraction method and html parameters\n",
    "extractor = Extractor('ArticleExtractor', url = \n",
    "                      \"https://www.smithsonianmag.com/smart-news/new-planet-hunting-satellite-ready-launch-180968804/\")"
   ]
  },
  {
   "cell_type": "code",
   "execution_count": 3,
   "metadata": {},
   "outputs": [],
   "source": [
    "raw_text = extractor.getText()"
   ]
  },
  {
   "cell_type": "code",
   "execution_count": 4,
   "metadata": {},
   "outputs": [
    {
     "name": "stdout",
     "output_type": "stream",
     "text": [
      "Five Things to Know About NASA’s New Planet-Hunting Satellite\n",
      "TESS will scan the skies in search of the next crop of exoplanets\n",
      "smithsonian.com\n",
      "April 16, 2018 | Updated: April 18, 2018\n",
      "Update April 18, 2018: At 6:51 PM EDT, NASA’s new planet-hunting satellite rocketed from Earth and was successfully deployed to a highly elliptical orbit. Soon after the rocket's launch, the first stage of the Falcon 9 adeptly landed on the drone ship that bears the cheeky name Of Course I Still Love You.\n",
      "If all goes to plan, NASA’s Transiting Exoplanet Survey Satellite (TESS) will blast off this week from Space Launch Complex 40 at Cape Canaveral.\n",
      "It will hopefully happen just in time; NASA’s Kepler spacecraft, which has been searching for exoplanets for the last nine years is running on fumes , and it's expected to run out in the next few months, Nadia Drake reports for National Geographic . TESS’s job is to expand on Kepler’s mission, scanning the night sky for exoplanets. Here are five things to know about the exciting new mission.\n",
      "TESS Has a Weird Orbit\n",
      "As Amy Thompson reports for Wired, TESS’s launch window this evening is only 30 seconds long thanks to the unusual orbit the team selected for this mission. Using the moon's gravity to keep it stable, TESS will circle around our planet in a 2:1 lunar-resonant orbit, which means it zips around Earth twice for every single moon orbit. But to reach this orbit, the moon and craft have to be in just the right position, Thompson notes.\n",
      "According to a NASA press release , TESS will orbit earth every 13.7 days, beaming back data when it passes closest to Earth. At its farthest point, or apogee, TESS will have an unobstructed view of the sky and will move beyond interference from the Van Allen radiation belts, which encircle Earth.\n",
      "If things don’t work out for tonight's launch, there will be a few other launch opportunities later this month. But if TESS doesn't launch by April 26, it may be bumped for 45 days for the launch of NASA’s InSight Mars Mission.\n",
      "TESS Is Going Wide\n",
      "During its primary mission, which began in 2009, the Kepler Space Telescope stared deeply into one patch of space, watching for stars—most of them between 300 and 3,000 light years away. Using the so-called transit method, it spotted planets by watching for the dimming of a star, the telltale sign that a planet passed across its face. Using this method, Kepler has helped identify 2,600 confirmed exoplanets.\n",
      "According to a press release from the Harvard-Smithsonian Center for Astrophysics , TESS will use the same method, but unlike Kepler, it will scan almost the entire sky. TESS will concentrate on stars 300 light years or closer. Over two years, it will use four wide-field cameras to look at the stars in large slices of sky. In its first year, it will survey the southern half of the sky and turn toward the northern section in year two. In total, it should scan 85 percent of the heavens, cataloguing 500,000 stars.\n",
      "TESS Needs Friends\n",
      "While TESS should be great at finding planets, it doesn’t have the scientific firepower to analyze them. That’s why, according to the press release, it will work in collaboration with other telescopes. Once TESS beams back data on potential planets, robotic telescopes at the Smithsonian’s Fred Lawrence Whipple Observatory, near Tucson, Arizona, and on Cerro Tololo in Chile will focus on the stars to confirm they are planets and not binary stars.\n",
      "Drake reports that once the James Webb Space telescope is launched in 2019 it too will use TESS’s data to focus on planets, and will be able to probe their atmospheres. Later this year, the European Space Agency is launching the CHaracterising ExOPlanet Satellite (CHEOPS), which will also follow up on what TESS finds, Jonathan Amos at the BBC reports. “Tess will tell us where and when to point,” CHEOPS project scientist Kate Isaak says. CHEOPs and the other scopes will then figure out the position, mass, density, atmosphere and other data about the planets.\n",
      "TESS Could Point to Signs of Life\n",
      "One of the major goals of TESS is identifying planets in the so-called Goldilocks zone, where surface temperatures suggest liquid water exists—and therefore the possibility of life. As Harrison Tasoff at Space.com reports, researchers have a list of molecules they are searching for in the data. “The first thing is we’re looking for is water vapor,” says Sara Seager at MIT, \"because all life, as we know it, needs liquid water... After water, oxygen would be fantastic... After that, we have lots of gases we're interested in, but mostly in space were looking for gases that don't belong that are there in high quantities, enough to really be detected from far away.”\n",
      "TESS Could Reshape the Search for E.T.\n",
      "As Jennifer Burt from MIT tells Amos, the TESS team expects to find 2,000 to 3,000 planets smaller than Jupiter and likely smaller than Neptune, the sweet spot for rocky Earth-like planets. As Tasoff reports, the Kepler mission gave researchers enough information to begin hypothesizing how many planets are orbiting stars. But TESS will push the search further, helping to determine how many of those planets might be habitable. It will also help scientists refine the Drake Equation , the formula that estimates how many detectable, technologically-advanced civilizations may exist in our Milky Way.\n",
      "“There's technical astrophysical issues that will interest a lot of the scientists in the community,” Harvard astronomer David Latham tells Tasoff, “but I think that the question that is going to catch the attention of the educated public is this big one: Are we alone?”\n",
      "The live webcast of the launch can be viewed above.\n",
      "Like this article?\n",
      "SIGN UP for our newsletter\n",
      "About Jason Daley\n",
      "Jason Daley is a Madison, Wisconsin-based writer specializing in natural history, science, travel, and the environment. His work has appeared in Discover, Popular Science, Outside, Men’s Journal, and other magazines.\n",
      "\n"
     ]
    }
   ],
   "source": [
    "print(raw_text)"
   ]
  }
 ],
 "metadata": {
  "kernelspec": {
   "display_name": "Python 3",
   "language": "python",
   "name": "python3"
  },
  "language_info": {
   "codemirror_mode": {
    "name": "ipython",
    "version": 3
   },
   "file_extension": ".py",
   "mimetype": "text/x-python",
   "name": "python",
   "nbconvert_exporter": "python",
   "pygments_lexer": "ipython3",
   "version": "3.6.4"
  }
 },
 "nbformat": 4,
 "nbformat_minor": 2
}
